{
  "cells": [
    {
      "cell_type": "markdown",
      "metadata": {
        "gradient": {
          "editing": false,
          "id": "ac5a4cf0-d9d2-47b5-9633-b53f8d99a4d2",
          "kernelId": ""
        },
        "id": "SiTIpPjArIyr"
      },
      "source": [
        "# Ultimate Accompaniment Transformer Training Dataset Maker (ver. 1.0)\n",
        "\n",
        "***\n",
        "\n",
        "Powered by tegridy-tools: https://github.com/asigalov61/tegridy-tools\n",
        "\n",
        "***\n",
        "\n",
        "#### Project Los Angeles\n",
        "\n",
        "#### Tegridy Code 2024\n",
        "\n",
        "***"
      ]
    },
    {
      "cell_type": "markdown",
      "metadata": {
        "gradient": {
          "editing": false,
          "id": "fa0a611c-1803-42ae-bdf6-a49b5a4e781b",
          "kernelId": ""
        },
        "id": "gOd93yV0sGd2"
      },
      "source": [
        "# (SETUP ENVIRONMENT)"
      ]
    },
    {
      "cell_type": "code",
      "execution_count": null,
      "metadata": {
        "cellView": "form",
        "gradient": {
          "editing": false,
          "id": "a1a45a91-d909-4fd4-b67a-5e16b971d179",
          "kernelId": ""
        },
        "id": "fX12Yquyuihc",
        "scrolled": true
      },
      "outputs": [],
      "source": [
        "#@title Install all dependencies (run only once per session)\n",
        "\n",
        "!git clone --depth 1 https://github.com/asigalov61/tegridy-tools"
      ]
    },
    {
      "cell_type": "code",
      "execution_count": null,
      "metadata": {
        "cellView": "form",
        "gradient": {
          "editing": false,
          "id": "b8207b76-9514-4c07-95db-95a4742e52c5",
          "kernelId": ""
        },
        "id": "z7n9vnKmug1J",
        "scrolled": true
      },
      "outputs": [],
      "source": [
        "#@title Import all needed modules\n",
        "\n",
        "print('Loading core modules. Please wait...')\n",
        "\n",
        "import os\n",
        "import copy\n",
        "import math\n",
        "import statistics\n",
        "import random\n",
        "\n",
        "from joblib import Parallel, delayed, parallel_config\n",
        "\n",
        "from collections import Counter\n",
        "\n",
        "from tqdm import tqdm\n",
        "\n",
        "from google.colab import files\n",
        "\n",
        "print('Creating IO dirs...')\n",
        "\n",
        "if not os.path.exists('/content/Dataset'):\n",
        "  os.makedirs('/content/Dataset')\n",
        "\n",
        "if not os.path.exists('/content/INTS'):\n",
        "  os.makedirs('/content/INTS')\n",
        "\n",
        "print('Loading TMIDIX module...')\n",
        "os.chdir('/content/tegridy-tools/tegridy-tools')\n",
        "\n",
        "import TMIDIX\n",
        "\n",
        "print('Done!')\n",
        "\n",
        "os.chdir('/content/')\n",
        "print('Enjoy! :)')"
      ]
    },
    {
      "cell_type": "markdown",
      "source": [
        "# (DOWNLOAD MIDI DATASET)"
      ],
      "metadata": {
        "id": "GIaKRqIHYied"
      }
    },
    {
      "cell_type": "code",
      "source": [
        "# @title Download and unzip Mono Melodies Piano Violin MIDI Dataset\n",
        "%cd /content/Dataset/\n",
        "!wget https://github.com/asigalov61/Tegridy-MIDI-Dataset/raw/master/Mono-Melodies/Piano-Violin/Mono-Melodies-Piano-Violin-CC-BY-NC-SA.zip.001\n",
        "!wget https://github.com/asigalov61/Tegridy-MIDI-Dataset/raw/master/Mono-Melodies/Piano-Violin/Mono-Melodies-Piano-Violin-CC-BY-NC-SA.zip.002\n",
        "!cat Mono-Melodies-Piano-Violin-CC-BY-NC-SA.zip.* > Mono-Melodies-Piano-Violin-CC-BY-NC-SA.zip\n",
        "!unzip Mono-Melodies-Piano-Violin-CC-BY-NC-SA.zip\n",
        "!rm Mono-Melodies-Piano-Violin-CC-BY-NC-SA.zip\n",
        "%cd /content/"
      ],
      "metadata": {
        "id": "CsDFx18o71l9",
        "cellView": "form"
      },
      "execution_count": null,
      "outputs": []
    },
    {
      "cell_type": "markdown",
      "metadata": {
        "id": "JwrqQeie08t0"
      },
      "source": [
        "# (FILE LIST)"
      ]
    },
    {
      "cell_type": "code",
      "execution_count": null,
      "metadata": {
        "cellView": "form",
        "id": "DuVWtdDNcqKh",
        "scrolled": true
      },
      "outputs": [],
      "source": [
        "#@title Save file list\n",
        "###########\n",
        "\n",
        "print('=' * 70)\n",
        "print('Loading MIDI files...')\n",
        "print('This may take a while on a large dataset in particular.')\n",
        "\n",
        "dataset_addr = \"/content/Dataset\"\n",
        "\n",
        "filez = list()\n",
        "for (dirpath, dirnames, filenames) in os.walk(dataset_addr):\n",
        "    for file in filenames:\n",
        "        if file.endswith(('.mid', '.midi', '.kar')):\n",
        "            filez.append(os.path.join(dirpath, file))\n",
        "print('=' * 70)\n",
        "\n",
        "if filez == []:\n",
        "    print('Could not find any MIDI files. Please check Dataset dir...')\n",
        "    print('=' * 70)\n",
        "\n",
        "else:\n",
        "  print('Randomizing file list...')\n",
        "  random.shuffle(filez)\n",
        "  print('=' * 70)\n",
        "\n",
        "  TMIDIX.Tegridy_Any_Pickle_File_Writer(filez, '/content/filez')\n",
        "  print('=' * 70)"
      ]
    },
    {
      "cell_type": "code",
      "execution_count": null,
      "metadata": {
        "cellView": "form",
        "id": "qI_adhjojrJ9",
        "scrolled": true
      },
      "outputs": [],
      "source": [
        "#@title Load file list\n",
        "\n",
        "print('=' * 70)\n",
        "filez = TMIDIX.Tegridy_Any_Pickle_File_Reader('/content/filez')\n",
        "print('Done!')\n",
        "print('=' * 70)"
      ]
    },
    {
      "cell_type": "markdown",
      "metadata": {
        "id": "FLxHvO-wlwfU"
      },
      "source": [
        "# (PROCESS)"
      ]
    },
    {
      "cell_type": "code",
      "execution_count": null,
      "metadata": {
        "id": "NOMrDxSm7Iz8",
        "cellView": "form"
      },
      "outputs": [],
      "source": [
        "# @title Load TMIDIX MIDI Processor\n",
        "\n",
        "print('=' * 70)\n",
        "print('Loading TMIDIX MIDI Processor...')\n",
        "\n",
        "def TMIDIX_MIDI_Processor(midi_file):\n",
        "\n",
        "    try:\n",
        "\n",
        "        fn = os.path.basename(midi_file)\n",
        "\n",
        "        #=======================================================\n",
        "        # START PROCESSING\n",
        "\n",
        "        #===============================================================================\n",
        "        # Raw single-track ms score\n",
        "\n",
        "        raw_score = TMIDIX.midi2single_track_ms_score(midi_file)\n",
        "\n",
        "        #===============================================================================\n",
        "        # Enhanced score notes\n",
        "\n",
        "        escore_notes = TMIDIX.advanced_score_processor(raw_score, return_enhanced_score_notes=True)[0]\n",
        "\n",
        "        if len(escore_notes) > 0:\n",
        "\n",
        "            #=======================================================\n",
        "            # PRE-PROCESSING\n",
        "\n",
        "            #===============================================================================\n",
        "            # Augmented enhanced score notes\n",
        "\n",
        "            escore_notes = TMIDIX.augment_enhanced_score_notes(escore_notes, timings_divider=32)\n",
        "\n",
        "            cscore = TMIDIX.chordify_score([1000, escore_notes])\n",
        "\n",
        "            melody = [sorted(e, key=lambda x: (x[3], x[4])[0], reverse=True)[0] for e in cscore if sorted(e, key=lambda x: (x[3], x[4]), reverse=True)[0][3] == 3]\n",
        "\n",
        "            #=======================================================\n",
        "            # FINAL PROCESSING\n",
        "\n",
        "            all_melody_chords = []\n",
        "\n",
        "            if melody:\n",
        "\n",
        "                #=======================================================\n",
        "                # Augmentation by pitch\n",
        "\n",
        "                for pa in range(-6, 6):\n",
        "\n",
        "                    melody_chords = []\n",
        "\n",
        "                    #=======================================================\n",
        "                    # MAIN PROCESSING CYCLE\n",
        "                    #=======================================================\n",
        "\n",
        "                    pe = cscore[0][0]\n",
        "\n",
        "                    mpe = melody[0]\n",
        "\n",
        "                    midx = 1\n",
        "\n",
        "                    for i, c in enumerate(cscore):\n",
        "\n",
        "                        c.sort(key=lambda x: (x[3], x[4]), reverse=True)\n",
        "\n",
        "                        # Next melody note\n",
        "\n",
        "                        # Time\n",
        "                        mtime = melody[midx][1]-mpe[1]\n",
        "\n",
        "                        mdur = melody[midx][2]\n",
        "\n",
        "                        mdelta_time = max(0, min(127, mtime))\n",
        "\n",
        "                        # Durations\n",
        "                        mdur = max(0, min(127, mdur))\n",
        "\n",
        "                        # Pitch\n",
        "                        mptc = max(1, min(127, melody[midx][4]+pa))\n",
        "\n",
        "                        for e in c:\n",
        "\n",
        "                            #=======================================================\n",
        "                            # Timings...\n",
        "\n",
        "                            time = e[1]-pe[1]\n",
        "\n",
        "                            dur = e[2]\n",
        "\n",
        "                            delta_time = max(0, min(127, time))\n",
        "\n",
        "                            # Durations\n",
        "\n",
        "                            dur = max(0, min(127, dur))\n",
        "\n",
        "                            # Pitches\n",
        "\n",
        "                            ptc = max(1, min(127, e[4]+pa))\n",
        "\n",
        "                            cha = e[3]\n",
        "\n",
        "                            #=======================================================\n",
        "                            # FINAL NOTE SEQ\n",
        "\n",
        "                            # Writing final note asynchronously\n",
        "\n",
        "                            if i == 0:\n",
        "                                    if cha == 3:\n",
        "                                        melody_chords.extend([delta_time, dur+128, ptc+384, mdelta_time+512, mptc+640])\n",
        "                                        mpe = melody[midx]\n",
        "                                        midx += 1\n",
        "                                    else:\n",
        "                                        melody_chords.extend([delta_time, dur+128, ptc+256])\n",
        "\n",
        "                            if delta_time != 0:\n",
        "                                if cha == 3:\n",
        "                                    melody_chords.extend([delta_time, dur+128, ptc+384, mdelta_time+512, mptc+640])\n",
        "                                    mpe = melody[midx]\n",
        "                                    midx += 1\n",
        "                                else:\n",
        "                                    melody_chords.extend([delta_time, dur+128, ptc+256])\n",
        "                            else:\n",
        "                                if i != 0:\n",
        "                                    melody_chords.extend([delta_time, dur+128, ptc+256])\n",
        "\n",
        "                            pe = e\n",
        "\n",
        "                        if len(melody_chords) > 8192 or midx == len(melody)-1:\n",
        "                            break\n",
        "\n",
        "                    #=======================================================\n",
        "\n",
        "                    all_melody_chords.append(melody_chords[:8193])\n",
        "\n",
        "            #=======================================================\n",
        "\n",
        "            # TOTAL DIATIONARY SIZE 768+1=769\n",
        "            #=======================================================\n",
        "\n",
        "            if all_melody_chords:\n",
        "                return all_melody_chords\n",
        "            else:\n",
        "                return None\n",
        "\n",
        "        else:\n",
        "            return None\n",
        "\n",
        "    except Exception as e:\n",
        "        print('=' * 70)\n",
        "        print('ERROR!!!')\n",
        "        print('File name:', midi_file)\n",
        "        print('Error:', e)\n",
        "        print('=' * 70)\n",
        "        return None\n",
        "\n",
        "print('Done!')\n",
        "print('=' * 70)"
      ]
    },
    {
      "cell_type": "code",
      "execution_count": null,
      "metadata": {
        "scrolled": true,
        "cellView": "form",
        "id": "_ia0G3sy7Iz9"
      },
      "outputs": [],
      "source": [
        "#@title Process MIDIs with TMIDIX MIDI processor\n",
        "\n",
        "NUMBER_OF_PARALLEL_JOBS = 16 # Number of parallel jobs\n",
        "NUMBER_OF_FILES_PER_ITERATION = 16 # Number of files to queue for each parallel iteration\n",
        "SAVE_EVERY_NUMBER_OF_ITERATIONS = 160 # Save every 2560 files\n",
        "\n",
        "print('=' * 70)\n",
        "print('TMIDIX MIDI Processor')\n",
        "print('=' * 70)\n",
        "print('Starting up...')\n",
        "print('=' * 70)\n",
        "\n",
        "###########\n",
        "\n",
        "melody_chords_f = []\n",
        "\n",
        "files_count = 0\n",
        "good_files_count = 0\n",
        "\n",
        "print('Processing MIDI files. Please wait...')\n",
        "print('=' * 70)\n",
        "\n",
        "for i in tqdm(range(0, len(filez), NUMBER_OF_FILES_PER_ITERATION)):\n",
        "\n",
        "  with parallel_config(backend='threading', n_jobs=NUMBER_OF_PARALLEL_JOBS, verbose = 0):\n",
        "    output = Parallel(n_jobs=NUMBER_OF_PARALLEL_JOBS, verbose=0)(delayed(TMIDIX_MIDI_Processor)(f) for f in filez[i:i+NUMBER_OF_FILES_PER_ITERATION])\n",
        "\n",
        "  for o in output:\n",
        "\n",
        "      if o is not None:\n",
        "          melody_chords_f.append(o)\n",
        "\n",
        "  # Saving every 2560 processed files\n",
        "  if i % (SAVE_EVERY_NUMBER_OF_ITERATIONS * NUMBER_OF_FILES_PER_ITERATION) == 0 and i != 0:\n",
        "      print('SAVING !!!')\n",
        "      print('=' * 70)\n",
        "      good_files_count += len(melody_chords_f)\n",
        "      print('Saving processed files...')\n",
        "      print('=' * 70)\n",
        "      print('Data check:', min(melody_chords_f[0][0]), '===', max(melody_chords_f[0][0]), '===', len(list(set(melody_chords_f[0][0]))), '===', len(melody_chords_f[0][0]))\n",
        "      print('=' * 70)\n",
        "      print('Processed so far:', good_files_count, 'out of', i, '===', good_files_count / i, 'good files ratio')\n",
        "      print('=' * 70)\n",
        "      count = str(i)\n",
        "      TMIDIX.Tegridy_Any_Pickle_File_Writer(melody_chords_f, '/content/INTS/UAT_INTs_'+count)\n",
        "      melody_chords_f = []\n",
        "      print('=' * 70)\n",
        "\n",
        "print('SAVING !!!')\n",
        "print('=' * 70)\n",
        "good_files_count += len(melody_chords_f)\n",
        "print('Saving processed files...')\n",
        "print('=' * 70)\n",
        "print('Data check:', min(melody_chords_f[0][0]), '===', max(melody_chords_f[0][0]), '===', len(list(set(melody_chords_f[0][0]))), '===', len(melody_chords_f[0][0]))\n",
        "print('=' * 70)\n",
        "print('Processed so far:', good_files_count, 'out of', i, '===', good_files_count / i, 'good files ratio')\n",
        "print('=' * 70)\n",
        "count = str(i)\n",
        "TMIDIX.Tegridy_Any_Pickle_File_Writer(melody_chords_f, '/content/INTS/UAT_INTs_'+count)\n",
        "print('=' * 70)"
      ]
    },
    {
      "cell_type": "markdown",
      "metadata": {
        "id": "-ye9rNzOHX90"
      },
      "source": [
        "# (TEST INTS)"
      ]
    },
    {
      "cell_type": "code",
      "source": [
        "#@title Test training INTs\n",
        "\n",
        "train_data1 = random.choice(melody_chords_f)[0]\n",
        "\n",
        "print('=' * 70)\n",
        "print('Seq len:', len(train_data1))\n",
        "print('Sample INTs', train_data1[:15])\n",
        "print('=' * 70)\n",
        "\n",
        "out = train_data1\n",
        "\n",
        "if len(out) != 0:\n",
        "\n",
        "    song = out\n",
        "    song_f = []\n",
        "\n",
        "    time = 0\n",
        "    dur = 0\n",
        "    vel = 90\n",
        "    pitch = 0\n",
        "    channel = 0\n",
        "\n",
        "    patches = [0] * 16\n",
        "\n",
        "    for ss in song:\n",
        "\n",
        "        if 0 <= ss < 128:\n",
        "\n",
        "            time += ss\n",
        "\n",
        "        if 128 <= ss < 256:\n",
        "\n",
        "            dur = (ss-128)\n",
        "\n",
        "        if 256 <= ss < 512:\n",
        "\n",
        "            channel = (ss-256) // 128\n",
        "\n",
        "            pitch = (ss-256) % 128\n",
        "\n",
        "            song_f.append(['note', time, dur, channel, pitch, vel ])\n",
        "\n",
        "detailed_stats = TMIDIX.Tegridy_ms_SONG_to_MIDI_Converter(song_f,\n",
        "                                                        output_signature = 'Ultimate Accompaniment Transformer',\n",
        "                                                        output_file_name = '/content/Ultimate-Accompaniment-Transformer-Composition',\n",
        "                                                        track_name='Project Los Angeles',\n",
        "                                                        list_of_MIDI_patches=patches,\n",
        "                                                        timings_multiplier=32\n",
        "                                                        )\n",
        "print('=' * 70)"
      ],
      "metadata": {
        "id": "P2EWhLWZCe9V",
        "cellView": "form"
      },
      "execution_count": null,
      "outputs": []
    },
    {
      "cell_type": "markdown",
      "source": [
        "# (ZIP AND DOWNLOAD INTS)"
      ],
      "metadata": {
        "id": "Ooe7lcOZbpz1"
      }
    },
    {
      "cell_type": "code",
      "source": [
        "#@title Zip and download training INTs\n",
        "\n",
        "print('=' * 70)\n",
        "\n",
        "try:\n",
        "    os.remove('Ultimate_Accompaniment_Transformer_INTs.zip')\n",
        "except OSError:\n",
        "    pass\n",
        "\n",
        "print('Zipping... Please wait...')\n",
        "print('=' * 70)\n",
        "\n",
        "%cd /content/INTS/\n",
        "!zip Ultimate_Accompaniment_Transformer_INTs.zip *.pickle\n",
        "%cd /content/\n",
        "\n",
        "print('=' * 70)\n",
        "print('Done!')\n",
        "print('=' * 70)\n",
        "\n",
        "print('Downloading final zip file...')\n",
        "print('=' * 70)\n",
        "\n",
        "files.download('/content/INTS/Ultimate_Accompaniment_Transformer_INTs.zip')\n",
        "\n",
        "print('Done!')\n",
        "print('=' * 70)"
      ],
      "metadata": {
        "id": "f2Ric8In9ju0",
        "cellView": "form"
      },
      "execution_count": null,
      "outputs": []
    },
    {
      "cell_type": "markdown",
      "metadata": {
        "id": "YzCMd94Tu_gz"
      },
      "source": [
        "# Congrats! You did it! :)"
      ]
    }
  ],
  "metadata": {
    "colab": {
      "private_outputs": true,
      "provenance": []
    },
    "kernelspec": {
      "display_name": "Python 3",
      "name": "python3"
    },
    "language_info": {
      "codemirror_mode": {
        "name": "ipython",
        "version": 3
      },
      "file_extension": ".py",
      "mimetype": "text/x-python",
      "name": "python",
      "nbconvert_exporter": "python",
      "pygments_lexer": "ipython3",
      "version": "3.9.7"
    }
  },
  "nbformat": 4,
  "nbformat_minor": 0
}